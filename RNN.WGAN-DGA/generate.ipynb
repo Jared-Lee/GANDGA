{
 "cells": [
  {
   "cell_type": "code",
   "execution_count": 1,
   "metadata": {
    "collapsed": true
   },
   "outputs": [],
   "source": [
    "import numpy as np\n",
    "import model_and_data_serialization\n",
    "from model import *"
   ]
  },
  {
   "cell_type": "code",
   "execution_count": 2,
   "metadata": {},
   "outputs": [
    {
     "name": "stdout",
     "output_type": "stream",
     "text": [
      "Loading lines, charmap, inv_charmap from pickle files\n"
     ]
    }
   ],
   "source": [
    "output_path = './output/sample.txt'\n",
    "\n",
    "#CKPT_PATH='./ckpt'\n",
    "CKPT_PATH='./logs/Generator_RNN_CL_VL_TH-Discriminator_RNN-50-10-512-512-1502970013.7224367-/checkpoint/seq-31/ckp'\n",
    "DISC_GRU_LAYERS=2 \n",
    "GEN_GRU_LAYERS=2\n",
    "\n",
    "SEQ_LEN = FLAGS.END_SEQ\n",
    "\n",
    "_, charmap, inv_charmap = model_and_data_serialization.load_dataset()\n",
    "charmap_len = len(charmap)\n",
    "\n",
    "Generator = get_generator(\"Generator_RNN_CL_VL_TH\")\n",
    "Discriminator = get_discriminator(\"Discriminator_RNN\")"
   ]
  },
  {
   "cell_type": "code",
   "execution_count": 3,
   "metadata": {
    "scrolled": false
   },
   "outputs": [
    {
     "name": "stdout",
     "output_type": "stream",
     "text": [
      "(64, 512)\n",
      "(64, 512)\n",
      "(64, 512)\n",
      "(64, 512)\n",
      "(64, 512)\n",
      "(64, 512)\n",
      "(64, 512)\n",
      "(64, 512)\n",
      "(64, 512)\n",
      "(64, 512)\n",
      "(64, 512)\n",
      "(64, 512)\n",
      "(64, 512)\n",
      "(64, 512)\n",
      "(64, 512)\n",
      "(64, 512)\n",
      "(64, 512)\n",
      "(64, 512)\n",
      "(64, 512)\n",
      "(64, 512)\n",
      "(64, 512)\n",
      "(64, 512)\n",
      "(64, 512)\n",
      "(64, 512)\n",
      "(64, 512)\n",
      "(64, 512)\n",
      "(64, 512)\n",
      "(64, 512)\n",
      "(64, 512)\n",
      "(64, 512)\n",
      "(64, 512)\n",
      "(64, 512)\n"
     ]
    }
   ],
   "source": [
    "_, inference_op = Generator(BATCH_SIZE, charmap_len, seq_len=SEQ_LEN,rnn_cell=GRUCell)\n",
    "disc_fake = Discriminator(inference_op, charmap_len, SEQ_LEN, reuse=False,rnn_cell=GRUCell)"
   ]
  },
  {
   "cell_type": "code",
   "execution_count": 4,
   "metadata": {
    "scrolled": false
   },
   "outputs": [
    {
     "name": "stdout",
     "output_type": "stream",
     "text": [
      "INFO:tensorflow:Restoring parameters from ./logs/Generator_RNN_CL_VL_TH-Discriminator_RNN-50-10-512-512-1502970013.7224367-/checkpoint/seq-31/ckp\n"
     ]
    }
   ],
   "source": [
    "saver = tf.train.Saver()\n",
    "with tf.Session() as session:\n",
    "    saver.restore(session, CKPT_PATH)\n",
    "    sequential_output, scores = session.run([inference_op, disc_fake])\n",
    "\n",
    "samples = []"
   ]
  },
  {
   "cell_type": "code",
   "execution_count": 5,
   "metadata": {
    "collapsed": true
   },
   "outputs": [],
   "source": [
    "for i in range(BATCH_SIZE):\n",
    "    chars = []\n",
    "    for seq_len in range(sequential_output.shape[1]):\n",
    "        char_index = np.argmax(sequential_output[i,seq_len])\n",
    "        chars.append(inv_charmap[char_index])\n",
    "    sample = \"\".join(chars)\n",
    "    samples.append(sample)"
   ]
  },
  {
   "cell_type": "code",
   "execution_count": 6,
   "metadata": {
    "collapsed": true
   },
   "outputs": [],
   "source": [
    "if not(os.path.isdir('./output')):\n",
    "    os.mkdir(\"./output\")\n",
    "\n",
    "with open(output_path, 'w') as f:\n",
    "    for k in samples:\n",
    "        f.write(\"%s\\n\"%k)\n",
    "f.close()\n",
    "#print (Prediction saved to: %s\"%output_path )"
   ]
  },
  {
   "cell_type": "code",
   "execution_count": null,
   "metadata": {
    "collapsed": true
   },
   "outputs": [],
   "source": []
  }
 ],
 "metadata": {
  "kernelspec": {
   "display_name": "Python 3",
   "language": "python",
   "name": "python3"
  },
  "language_info": {
   "codemirror_mode": {
    "name": "ipython",
    "version": 3
   },
   "file_extension": ".py",
   "mimetype": "text/x-python",
   "name": "python",
   "nbconvert_exporter": "python",
   "pygments_lexer": "ipython3",
   "version": "3.5.4"
  }
 },
 "nbformat": 4,
 "nbformat_minor": 2
}
